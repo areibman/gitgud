{
 "cells": [
  {
   "cell_type": "code",
   "execution_count": 369,
   "metadata": {},
   "outputs": [],
   "source": [
    "import pandas as pd\n",
    "import json\n",
    "import matplotlib.pyplot as plt\n",
    "import numpy as np\n",
    "import pandas as pd\n",
    "import seaborn as sns\n",
    "import os\n",
    "import requests\n",
    "from io import StringIO\n",
    "from plotly import __version__\n",
    "import plotly.figure_factory as ff\n",
    "from plotly.offline import download_plotlyjs, init_notebook_mode, plot, iplot\n",
    "\n",
    "import datetime\n",
    "import scipy.stats as stats\n",
    "\n",
    "\n",
    "\n",
    "%matplotlib inline"
   ]
  },
  {
   "cell_type": "code",
   "execution_count": 331,
   "metadata": {},
   "outputs": [],
   "source": [
    "def get_recalls_by_champion(champion):\n",
    "    \"\"\"\n",
    "    \"\"\"\n",
    "    all_purchases = []\n",
    "\n",
    "    for game_dump in os.listdir('./game_dumps'):\n",
    "        df = pd.DataFrame()\n",
    "        try:\n",
    "            with open('./game_dumps/'+ game_dump,'r') as f:\n",
    "                data = json.load(f)\n",
    "            temp = pd.DataFrame(data['timeline']['frames'])\n",
    "            participants = data['participants']\n",
    "\n",
    "            champion_in_game = False\n",
    "            for participant in participants:\n",
    "                if participant['championId'] == champion:\n",
    "                    champion_in_game= True\n",
    "                    break\n",
    "            \n",
    "            if not champion_in_game:\n",
    "                continue\n",
    "            \n",
    "        except:\n",
    "            continue\n",
    "    \n",
    "\n",
    "        df = df.append(temp)\n",
    "\n",
    "    #   Items purchased\n",
    "        item_purchase_events = []\n",
    "        for index, row in df['events'].iteritems():\n",
    "            for event in row:\n",
    "                if event['type'] == \"ITEM_PURCHASED\" and event['timestamp'] > 180000:\n",
    "                    item_purchase_events.append(event)\n",
    "\n",
    "    #   Champions Killed\n",
    "        champion_kills = []\n",
    "        for index, row in df['events'].iteritems():\n",
    "            for event in row:\n",
    "                if event['type'] == \"CHAMPION_KILL\":\n",
    "                    champion_kills.append(event)\n",
    "\n",
    "\n",
    "        recall_buys = []\n",
    "    #   Remove items purchased after deaths\n",
    "        for purchase in item_purchase_events:\n",
    "            purchased_after_kill = False\n",
    "\n",
    "            for kill in champion_kills:\n",
    "                if purchase['timestamp'] < 30000 + kill['timestamp'] and purchase['timestamp'] > kill['timestamp'] - 30000:\n",
    "                    if kill['victimId'] == purchase['participantId']:\n",
    "                        purchased_after_kill = True\n",
    "                        break\n",
    "            if purchased_after_kill:\n",
    "                continue\n",
    "            else:\n",
    "                recall_buys.append(purchase)\n",
    "\n",
    "    #   Subest of all first buys\n",
    "        players_with_first_buys = set()\n",
    "        first_purchases = []\n",
    "#         print(recall_buys)\n",
    "#         for purchase in recall_buys:\n",
    "#             if purchase['participantId'] in players_with_first_buys:\n",
    "#                 continue\n",
    "#             else:\n",
    "#                 players_with_first_buys.add(purchase['participantId'])\n",
    "#                 first_purchases.append(purchase)\n",
    "        first_purchases.append(recall_buys[0])\n",
    "\n",
    "#         if len(first_purchases) <10:\n",
    "#             continue\n",
    "        purchase_times = [time['timestamp'] for time in first_purchases if time['timestamp'] < 600000]\n",
    "        all_purchases.extend(purchase_times)\n",
    "    return all_purchases\n",
    "        "
   ]
  },
  {
   "cell_type": "code",
   "execution_count": 332,
   "metadata": {},
   "outputs": [],
   "source": [
    "def get_player_recall_history(player_id, champion_id,region):\n",
    "    API_URL = '.api.riotgames.com/lol/'\n",
    "    API_KEY = '?api_key=RGAPI-3a4ed2fd-dc8d-4bcc-acd5-360c10f25360'\n",
    "    MATCH_ID_ENDPOINT = 'match/v3/matchlists/by-account/'\n",
    "    GAME_TIMELINE_ENDPOINT = 'match/v3/timelines/by-match/'\n",
    "    MATCH_INFORMATION_ENDPOINT = 'match/v3/matches/'\n",
    "\n",
    "    \n",
    "    r = requests.get('https://'+region+API_URL+MATCH_ID_ENDPOINT+player_id+API_KEY)\n",
    "    matches = r.json()\n",
    "        \n",
    "    match_list = [match['gameId'] for match in matches['matches'] if match['champion'] == champion_id]\n",
    "    \n",
    "    match_timelines = {}\n",
    "    for match in match_list:\n",
    "        r = requests.get('https://'+region+API_URL+GAME_TIMELINE_ENDPOINT+str(match)+API_KEY)\n",
    "        match_timelines[match]= r.json()\n",
    "        \n",
    "        \n",
    "        # Query the participant ID from a new request, and ad it to the match_timelines dict\n",
    "        pid_request = requests.get('https://'+region+API_URL+MATCH_INFORMATION_ENDPOINT+str(match)+API_KEY)\n",
    "        pid_json = pid_request.json()\n",
    "        \n",
    "        # Find the participant ID and add it as a key to our megadict\n",
    "        for participant in pid_json['participants']:\n",
    "            if participant['championId'] == champion_id:    \n",
    "                match_timelines[match]['participantId'] = participant['participantId']\n",
    "        \n",
    "    return match_timelines"
   ]
  },
  {
   "cell_type": "code",
   "execution_count": 333,
   "metadata": {},
   "outputs": [],
   "source": [
    "def get_recall_timestamps_for_player(match_timelines):\n",
    "    \"\"\"\n",
    "    Args:\n",
    "        Object of games and their timelines\n",
    "    Returns:\n",
    "        list of times in milliseconds\n",
    "    \"\"\"    \n",
    "    \n",
    "    for match in match_timelines:\n",
    "        participantId = match_timelines[match]['participantId']\n",
    "        #   Items purchased\n",
    "        item_purchase_events = []\n",
    "        for frame in match_timelines[match]['frames']:\n",
    "            \n",
    "            for event in frame['events']:\n",
    "                \n",
    "            \n",
    "                if event['type'] == 'ITEM_PURCHASED' and event['timestamp'] > 180000:\n",
    "                    item_purchase_events.append(event)                       \n",
    "                \n",
    "                \n",
    "        # Filter items purchased to only those made by the participant\n",
    "        player_buys = []      \n",
    "        for purchase in item_purchase_events:\n",
    "            if purchase['participantId'] == participantId:\n",
    "                player_buys.append(purchase)\n",
    "                \n",
    "                \n",
    "                \n",
    "\n",
    "        #   Champions Killed\n",
    "        champion_kills = []\n",
    "        for frame in match_timelines[match]['frames']:\n",
    "            \n",
    "            for event in frame['events']:\n",
    "                if event['type'] == 'CHAMPION_KILL':\n",
    "                    champion_kills.append(event)\n",
    "                \n",
    "                \n",
    "#                   if purchase['participantId']!= participantId:\n",
    "# #                     print(purchase['timestamp']['victimId'], participantId)           \n",
    "                \n",
    "        \n",
    "        #  Ignore purchases after death  \n",
    "        recall_buys = []\n",
    "        purchased_after_kill = False\n",
    "        for purchase in player_buys:\n",
    "            for kill in champion_kills:\n",
    "                if kill['victimId'] == participantId:\n",
    "                    if purchase['timestamp'] < 30000 + kill['timestamp'] and purchase['timestamp'] > kill['timestamp'] - 30000:\n",
    "                        purchased_after_kill = True\n",
    "                        break\n",
    "            if purchased_after_kill:\n",
    "                continue\n",
    "            else:\n",
    "                recall_buys.append(purchase)\n",
    "                \n",
    "    return [buy['timestamp'] for buy in recall_buys]"
   ]
  },
  {
   "cell_type": "code",
   "execution_count": 296,
   "metadata": {},
   "outputs": [],
   "source": [
    "aatrox_player_match_history = get_player_recall_history(player_id='219693852', champion_id = 266, region= 'euw1')"
   ]
  },
  {
   "cell_type": "code",
   "execution_count": 351,
   "metadata": {
    "scrolled": true
   },
   "outputs": [],
   "source": [
    "aatrox_player_recall_times = get_recall_timestamps_for_player(aatrox_player_match_history)"
   ]
  },
  {
   "cell_type": "code",
   "execution_count": 347,
   "metadata": {
    "scrolled": true
   },
   "outputs": [],
   "source": [
    "purchase_times_thresh = get_recalls_by_champion(412)\n",
    "purchase_times_aatrox = get_recalls_by_champion(266)"
   ]
  },
  {
   "cell_type": "code",
   "execution_count": 383,
   "metadata": {
    "scrolled": false
   },
   "outputs": [
    {
     "data": {
      "image/png": "[encoded data removed]",
      "text/plain": [
       "<Figure size 600x400 with 1 Axes>"
      ]
     },
     "metadata": {},
     "output_type": "display_data"
    }
   ],
   "source": [
    "fig = plt.figure(dpi=100)\n",
    "plt.yticks([])\n",
    "plt.title('First recall purchase times for Challenger Players (in seconds)')\n",
    "ax = sns.kdeplot([purchase/1000 for purchase in purchase_times_thresh],color='blue', shade=True)\n",
    "ax2 = sns.kdeplot([purchase/1000 for purchase in aatrox_player_recall_times],color='red', shade=True)\n",
    "\n",
    "plt.legend(('Challenger Player Average Recall','Your Average Recall'))\n",
    "\n",
    "\n",
    "\n",
    "# imgdata = StringIO()\n",
    "# fig.savefig(imgdata, format='svg')\n",
    "# imgdata.seek(0)  # rewind the data\n",
    "\n",
    "# svg_dta = imgdata.buf  # this is svg data\n",
    "\n",
    "# file('test.htm', 'w').write(svg_dta)  # test it\n",
    "\n",
    "\n",
    "plt.savefig(\"First-recall-purchase-for-player-single-match.svg\")\n",
    "os.rename('First-recall-purchase-for-player-single-match.svg','svg.txt')\n",
    "with open('svg.txt','r') as f:\n",
    "    svg = f.read()\n",
    "\n"
   ]
  },
  {
   "cell_type": "code",
   "execution_count": 358,
   "metadata": {},
   "outputs": [
    {
     "data": {
      "text/plain": [
       "[439174, 439702, 440103, 439174, 439702, 440103]"
      ]
     },
     "execution_count": 358,
     "metadata": {},
     "output_type": "execute_result"
    }
   ],
   "source": []
  },
  {
   "cell_type": "code",
   "execution_count": null,
   "metadata": {},
   "outputs": [],
   "source": []
  }
 ],
 "metadata": {
  "kernelspec": {
   "display_name": "Python 3",
   "language": "python",
   "name": "python3"
  },
  "language_info": {
   "codemirror_mode": {
    "name": "ipython",
    "version": 3
   },
   "file_extension": ".py",
   "mimetype": "text/x-python",
   "name": "python",
   "nbconvert_exporter": "python",
   "pygments_lexer": "ipython3",
   "version": "3.6.5"
  }
 },
 "nbformat": 4,
 "nbformat_minor": 2
}
